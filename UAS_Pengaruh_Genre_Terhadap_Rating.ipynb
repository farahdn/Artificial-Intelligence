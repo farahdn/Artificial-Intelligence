{
  "nbformat": 4,
  "nbformat_minor": 0,
  "metadata": {
    "colab": {
      "provenance": [],
      "authorship_tag": "ABX9TyM1LRPlOdy2xJO++tMtMwYL",
      "include_colab_link": true
    },
    "kernelspec": {
      "name": "python3",
      "display_name": "Python 3"
    },
    "language_info": {
      "name": "python"
    }
  },
  "cells": [
    {
      "cell_type": "markdown",
      "metadata": {
        "id": "view-in-github",
        "colab_type": "text"
      },
      "source": [
        "<a href=\"https://colab.research.google.com/github/farahdn/Artificial-Intelligence/blob/main/UAS_Pengaruh_Genre_Terhadap_Rating.ipynb\" target=\"_parent\"><img src=\"https://colab.research.google.com/assets/colab-badge.svg\" alt=\"Open In Colab\"/></a>"
      ]
    },
    {
      "cell_type": "markdown",
      "source": [
        "PENERAPAN ALGORITMA K-MEANS CLUSTERING DENGAN RANDOM FOREST UNTUK MENGANALISIS PENGARUH GENRE TERHADAP RATING"
      ],
      "metadata": {
        "id": "RdldPG2ghYxW"
      }
    },
    {
      "cell_type": "markdown",
      "source": [
        "STEP 1 - PREPROCESSING DATA"
      ],
      "metadata": {
        "id": "OGom56ONh_AX"
      }
    },
    {
      "cell_type": "code",
      "source": [
        "import pandas as pd\n",
        "import numpy as np\n",
        "\n",
        "# Load the dataset\n",
        "file_path = '/content/netflix_titles.csv'\n",
        "data = pd.read_csv(file_path)\n",
        "\n",
        "# Preprocess data: Convert date_added to datetime and handle missing values\n",
        "data['date_added'] = pd.to_datetime(data['date_added'], errors='coerce')\n",
        "\n",
        "# Drop rows with missing date_added\n",
        "data = data.dropna(subset=['date_added'])\n",
        "\n",
        "# Extract year and month from date_added for clustering\n",
        "data['year_added'] = data['date_added'].dt.year\n",
        "data['month_added'] = data['date_added'].dt.month\n",
        "\n",
        "# Check for missing values after preprocessing\n",
        "data.isnull().sum()"
      ],
      "metadata": {
        "colab": {
          "base_uri": "https://localhost:8080/",
          "height": 523
        },
        "id": "cDzWSDOLmEIo",
        "outputId": "44c29cc5-a65c-428c-a0ac-e3ae2129f015"
      },
      "execution_count": 50,
      "outputs": [
        {
          "output_type": "execute_result",
          "data": {
            "text/plain": [
              "show_id            0\n",
              "type               0\n",
              "title              0\n",
              "director        2446\n",
              "cast             741\n",
              "country          799\n",
              "date_added         0\n",
              "release_year       0\n",
              "rating             4\n",
              "duration           4\n",
              "listed_in          1\n",
              "description        1\n",
              "year_added         0\n",
              "month_added        0\n",
              "dtype: int64"
            ],
            "text/html": [
              "<div>\n",
              "<style scoped>\n",
              "    .dataframe tbody tr th:only-of-type {\n",
              "        vertical-align: middle;\n",
              "    }\n",
              "\n",
              "    .dataframe tbody tr th {\n",
              "        vertical-align: top;\n",
              "    }\n",
              "\n",
              "    .dataframe thead th {\n",
              "        text-align: right;\n",
              "    }\n",
              "</style>\n",
              "<table border=\"1\" class=\"dataframe\">\n",
              "  <thead>\n",
              "    <tr style=\"text-align: right;\">\n",
              "      <th></th>\n",
              "      <th>0</th>\n",
              "    </tr>\n",
              "  </thead>\n",
              "  <tbody>\n",
              "    <tr>\n",
              "      <th>show_id</th>\n",
              "      <td>0</td>\n",
              "    </tr>\n",
              "    <tr>\n",
              "      <th>type</th>\n",
              "      <td>0</td>\n",
              "    </tr>\n",
              "    <tr>\n",
              "      <th>title</th>\n",
              "      <td>0</td>\n",
              "    </tr>\n",
              "    <tr>\n",
              "      <th>director</th>\n",
              "      <td>2446</td>\n",
              "    </tr>\n",
              "    <tr>\n",
              "      <th>cast</th>\n",
              "      <td>741</td>\n",
              "    </tr>\n",
              "    <tr>\n",
              "      <th>country</th>\n",
              "      <td>799</td>\n",
              "    </tr>\n",
              "    <tr>\n",
              "      <th>date_added</th>\n",
              "      <td>0</td>\n",
              "    </tr>\n",
              "    <tr>\n",
              "      <th>release_year</th>\n",
              "      <td>0</td>\n",
              "    </tr>\n",
              "    <tr>\n",
              "      <th>rating</th>\n",
              "      <td>4</td>\n",
              "    </tr>\n",
              "    <tr>\n",
              "      <th>duration</th>\n",
              "      <td>4</td>\n",
              "    </tr>\n",
              "    <tr>\n",
              "      <th>listed_in</th>\n",
              "      <td>1</td>\n",
              "    </tr>\n",
              "    <tr>\n",
              "      <th>description</th>\n",
              "      <td>1</td>\n",
              "    </tr>\n",
              "    <tr>\n",
              "      <th>year_added</th>\n",
              "      <td>0</td>\n",
              "    </tr>\n",
              "    <tr>\n",
              "      <th>month_added</th>\n",
              "      <td>0</td>\n",
              "    </tr>\n",
              "  </tbody>\n",
              "</table>\n",
              "</div><br><label><b>dtype:</b> int64</label>"
            ]
          },
          "metadata": {},
          "execution_count": 50
        }
      ]
    },
    {
      "cell_type": "markdown",
      "source": [
        "STEP 2 - CLUSTERING MENGGUNAKAN ALGORITMA HIERARCHICAL"
      ],
      "metadata": {
        "id": "9kbWsP72mkni"
      }
    },
    {
      "cell_type": "code",
      "source": [
        "from scipy.cluster.hierarchy import linkage, dendrogram, fcluster\n",
        "import matplotlib.pyplot as plt\n",
        "\n",
        "# Menyiapkan data untuk clustering (menggunakan kolom tahun dan bulan)\n",
        "time_data = data[['year_added', 'month_added']]\n",
        "\n",
        "# Melakukan hierarchical clustering\n",
        "linked = linkage(time_data, method='ward')\n",
        "\n",
        "# Plot dendrogram dengan label yang lebih sesuai\n",
        "plt.figure(figsize=(12, 8))\n",
        "dendrogram(linked,\n",
        "           labels=[f\"{int(year)}-{int(month)}\" for year, month in zip(data['year_added'], data['month_added'])],  # Label dengan format Tahun-Bulan\n",
        "           orientation='top',\n",
        "           distance_sort='descending',\n",
        "           show_leaf_counts=True)\n",
        "plt.title('Dendrogram - Clustering Konten Netflix Berdasarkan Tahun dan Bulan Penambahan')\n",
        "plt.xlabel('Tahun-Bulan Penambahan Konten')  # Menambahkan label yang lebih informatif pada sumbu X\n",
        "plt.ylabel('Jarak (Distance)')  # Menjelaskan arti jarak pada sumbu Y\n",
        "plt.xticks(rotation=90)  # Memutar label untuk memudahkan pembacaan\n",
        "plt.grid(True)\n",
        "plt.tight_layout()\n",
        "plt.show()\n",
        "\n",
        "# Tentukan jumlah cluster dengan memotong dendrogram pada jarak tertentu\n",
        "# Misalnya, kita potong pada jarak 15 untuk mendapatkan 3 cluster\n",
        "clusters = fcluster(linked, t=15, criterion='distance')\n",
        "\n",
        "# Menyimpan hasil cluster ke dalam dataset\n",
        "data['cluster'] = clusters\n",
        "\n",
        "# Menampilkan beberapa baris pertama data dengan hasil cluster\n",
        "print(data[['year_added', 'month_added', 'cluster']].head())"
      ],
      "metadata": {
        "colab": {
          "base_uri": "https://localhost:8080/",
          "height": 911
        },
        "id": "p7XoZn5umrxS",
        "outputId": "475cce38-4395-4e03-b744-04557cf29b77"
      },
      "execution_count": 64,
      "outputs": [
        {
          "output_type": "display_data",
          "data": {
            "text/plain": [
              "<Figure size 1200x800 with 1 Axes>"
            ],
            "image/png": "[encoded data removed]"
          },
          "metadata": {}
        },
        {
          "output_type": "stream",
          "name": "stdout",
          "text": [
            "   year_added  month_added  cluster\n",
            "0        2021            9       13\n",
            "1        2021            9       13\n",
            "2        2021            9       13\n",
            "3        2021            9       13\n",
            "4        2021            9       13\n"
          ]
        }
      ]
    },
    {
      "cell_type": "markdown",
      "source": [
        "STEP 3 - PENGGABUNGAN ALGORITMA K-MEANS DENGAN ALGORITMA RANDOM FOREST"
      ],
      "metadata": {
        "id": "KalkM7PqpoFX"
      }
    },
    {
      "cell_type": "code",
      "source": [
        "from sklearn.linear_model import LogisticRegression\n",
        "from sklearn.metrics import accuracy_score, classification_report\n",
        "from sklearn.model_selection import train_test_split\n",
        "\n",
        "# Asumsikan Anda sudah memiliki data 'clusters' dari Step 2\n",
        "# Tambahkan hasil clustering ke dalam dataset sebagai fitur tambahan\n",
        "data['cluster'] = clusters  # 'clusters' adalah hasil dari algoritma clustering sebelumnya\n",
        "\n",
        "# Memilih fitur yang relevan (termasuk fitur cluster)\n",
        "X = data[['year_added', 'month_added', 'cluster']]  # Menambahkan cluster sebagai fitur\n",
        "\n",
        "# Gunakan kolom 'type' sebagai target variabel\n",
        "y = data['type']  # Menggunakan kolom 'type' sebagai target\n",
        "\n",
        "# Membagi data menjadi data pelatihan dan pengujian\n",
        "X_train, X_test, y_train, y_test = train_test_split(X, y, test_size=0.2, random_state=42)\n",
        "\n",
        "# Membuat dan melatih model Logistic Regression dengan fitur clustering\n",
        "model_with_clustering = LogisticRegression(max_iter=2000, class_weight='balanced')\n",
        "model_with_clustering.fit(X_train, y_train)\n",
        "\n",
        "# Prediksi dan evaluasi model\n",
        "y_pred_with_clustering = model_with_clustering.predict(X_test)\n",
        "\n",
        "# Metrik evaluasi\n",
        "print(\"Evaluasi Model dengan Clustering:\")\n",
        "print(\"Accuracy:\", accuracy_score(y_test, y_pred_with_clustering))\n",
        "print(\"Classification Report:\\n\", classification_report(y_test, y_pred_with_clustering))\n",
        "\n",
        "# Bandingkan dengan model tanpa clustering\n",
        "print(\"Evaluasi Model Tanpa Clustering:\")\n",
        "model_without_clustering = LogisticRegression(max_iter=2000, class_weight='balanced')\n",
        "model_without_clustering.fit(X_train[['year_added', 'month_added']], y_train)\n",
        "y_pred_without_clustering = model_without_clustering.predict(X_test[['year_added', 'month_added']])\n",
        "\n",
        "# Evaluasi untuk model tanpa clustering\n",
        "print(\"Accuracy (tanpa clustering):\", accuracy_score(y_test, y_pred_without_clustering))\n",
        "print(\"Classification Report (tanpa clustering):\\n\", classification_report(y_test, y_pred_without_clustering))"
      ],
      "metadata": {
        "colab": {
          "base_uri": "https://localhost:8080/"
        },
        "id": "-ElsVykVpxC6",
        "outputId": "dfcda04d-2e54-4fb1-c26e-0b0396d7b43f"
      },
      "execution_count": 63,
      "outputs": [
        {
          "output_type": "stream",
          "name": "stdout",
          "text": [
            "Evaluasi Model dengan Clustering:\n",
            "Accuracy: 0.5179455445544554\n",
            "Classification Report:\n",
            "               precision    recall  f1-score   support\n",
            "\n",
            "       Movie       0.67      0.56      0.61      1099\n",
            "     TV Show       0.31      0.42      0.36       517\n",
            "\n",
            "    accuracy                           0.52      1616\n",
            "   macro avg       0.49      0.49      0.49      1616\n",
            "weighted avg       0.56      0.52      0.53      1616\n",
            "\n",
            "Evaluasi Model Tanpa Clustering:\n",
            "Accuracy (tanpa clustering): 0.48948019801980197\n",
            "Classification Report (tanpa clustering):\n",
            "               precision    recall  f1-score   support\n",
            "\n",
            "       Movie       0.68      0.47      0.56      1099\n",
            "     TV Show       0.32      0.53      0.40       517\n",
            "\n",
            "    accuracy                           0.49      1616\n",
            "   macro avg       0.50      0.50      0.48      1616\n",
            "weighted avg       0.57      0.49      0.51      1616\n",
            "\n"
          ]
        }
      ]
    },
    {
      "cell_type": "markdown",
      "source": [
        "STEP 4 - EVALUASI DAN PENGOPTIMALAN"
      ],
      "metadata": {
        "id": "uW-tYxJpt5fD"
      }
    },
    {
      "cell_type": "markdown",
      "source": [
        "Mengevaluasi Kinerja Model"
      ],
      "metadata": {
        "id": "N0Z-XiVcvqY1"
      }
    },
    {
      "cell_type": "code",
      "source": [
        "from sklearn.metrics import accuracy_score, precision_score, recall_score, f1_score, classification_report\n",
        "\n",
        "# Prediksi dengan model terbaik yang telah dilatih\n",
        "y_pred = best_model.predict(X_test)\n",
        "\n",
        "# Metrik evaluasi\n",
        "accuracy = accuracy_score(y_test, y_pred)\n",
        "precision = precision_score(y_test, y_pred, average='weighted')\n",
        "recall = recall_score(y_test, y_pred, average='weighted')\n",
        "f1 = f1_score(y_test, y_pred, average='weighted')\n",
        "\n",
        "print(\"Model Evaluation Metrics:\")\n",
        "print(f\"Accuracy: {accuracy}\")\n",
        "print(f\"Precision: {precision}\")\n",
        "print(f\"Recall: {recall}\")\n",
        "print(f\"F1-Score: {f1}\")\n",
        "print(\"Classification Report:\\n\", classification_report(y_test, y_pred))"
      ],
      "metadata": {
        "colab": {
          "base_uri": "https://localhost:8080/"
        },
        "id": "D_seZjl0wm1G",
        "outputId": "8a95eb91-e4db-4693-99d9-31ee7817114f"
      },
      "execution_count": 60,
      "outputs": [
        {
          "output_type": "stream",
          "name": "stdout",
          "text": [
            "Model Evaluation Metrics:\n",
            "Accuracy: 1.0\n",
            "Precision: 1.0\n",
            "Recall: 1.0\n",
            "F1-Score: 1.0\n",
            "Classification Report:\n",
            "               precision    recall  f1-score   support\n",
            "\n",
            "           0       1.00      1.00      1.00        39\n",
            "           1       1.00      1.00      1.00        30\n",
            "           2       1.00      1.00      1.00        35\n",
            "           3       1.00      1.00      1.00         4\n",
            "           4       1.00      1.00      1.00        17\n",
            "           5       1.00      1.00      1.00        67\n",
            "           6       1.00      1.00      1.00        77\n",
            "           7       1.00      1.00      1.00        42\n",
            "           8       1.00      1.00      1.00        62\n",
            "           9       1.00      1.00      1.00        46\n",
            "          10       1.00      1.00      1.00        62\n",
            "          11       1.00      1.00      1.00        51\n",
            "          12       1.00      1.00      1.00        68\n",
            "          13       1.00      1.00      1.00        64\n",
            "          14       1.00      1.00      1.00        40\n",
            "          15       1.00      1.00      1.00        48\n",
            "          16       1.00      1.00      1.00        57\n",
            "          17       1.00      1.00      1.00        66\n",
            "          18       1.00      1.00      1.00        19\n",
            "          19       1.00      1.00      1.00        49\n",
            "          20       1.00      1.00      1.00        56\n",
            "          21       1.00      1.00      1.00        71\n",
            "          22       1.00      1.00      1.00        91\n",
            "          23       1.00      1.00      1.00        40\n",
            "          24       1.00      1.00      1.00        52\n",
            "          25       1.00      1.00      1.00        26\n",
            "          26       1.00      1.00      1.00        34\n",
            "          27       1.00      1.00      1.00        52\n",
            "          28       1.00      1.00      1.00        55\n",
            "          30       1.00      1.00      1.00        33\n",
            "          31       1.00      1.00      1.00        35\n",
            "          32       1.00      1.00      1.00        51\n",
            "          33       1.00      1.00      1.00        77\n",
            "\n",
            "    accuracy                           1.00      1616\n",
            "   macro avg       1.00      1.00      1.00      1616\n",
            "weighted avg       1.00      1.00      1.00      1616\n",
            "\n"
          ]
        }
      ]
    },
    {
      "cell_type": "markdown",
      "source": [
        "KESIMPULAN"
      ],
      "metadata": {
        "id": "p4wW3zUSA3Nm"
      }
    },
    {
      "cell_type": "markdown",
      "source": [
        "Pada kasus ini, saya menganalisis tren penambahan konten di Netflix dengan fokus utama pada Bulan dan Tahun penambahan kontennya. Dari keseluruhan tahapan yang dilakukan, penerapan model algoritma Hierarchical clustering dan Logistic regression dinilai efektif. Karena Hierarchical clustering digunakan untuk mengelompokan konten berdasarkan waktu penambahannya, dimana hasil pengelompokan tersebut digunakan sebagai fitur tambahan dalam model untuk mempredikasi jenis konten yang ditambahkan berdasarkan periode tertentu. Evaluasi model menunjukan bahwa Hierarchical clustering meningkatkan akurasi dan kinerja model dan membantu dalam memprediksi tren penambahan konten."
      ],
      "metadata": {
        "id": "Jfhjp8O7A6IP"
      }
    }
  ]
}